{
 "cells": [
  {
   "cell_type": "markdown",
   "metadata": {},
   "source": [
    "Placeholder for development and debugging\n",
    "\n",
    "User story -> we provide a file_path, if valid file the image is processed and the result of processing are the attributes of the entity"
   ]
  },
  {
   "cell_type": "code",
   "execution_count": 1,
   "metadata": {},
   "outputs": [],
   "source": [
    "import imghdr\n",
    "import requests\n",
    "from PIL import Image\n",
    "import matplotlib.pyplot as plt\n",
    "%matplotlib inline"
   ]
  },
  {
   "cell_type": "code",
   "execution_count": 2,
   "metadata": {},
   "outputs": [],
   "source": [
    "## Const\n",
    "HTTP_OK = 200\n",
    "HTTP_BAD_REQUEST = 400\n",
    "HTTP_UNAUTHORIZED = 401\n",
    "\n",
    "## Configurable\n",
    "IP_ADDRESS = 'localhost'\n",
    "PORT = '5000'"
   ]
  },
  {
   "cell_type": "code",
   "execution_count": 3,
   "metadata": {},
   "outputs": [],
   "source": [
    "def get_matched_faces(predictions : dict):\n",
    "    \"\"\"\n",
    "    Get the predicted faces and their confidence.\n",
    "    \"\"\"\n",
    "    try:\n",
    "        matched_faces = {face['userid']: round(face['confidence']*100, 1) \n",
    "            for face in predictions if not face['userid'] == 'unknown'}\n",
    "        return matched_faces\n",
    "    except:\n",
    "        return {}"
   ]
  },
  {
   "cell_type": "code",
   "execution_count": 4,
   "metadata": {},
   "outputs": [],
   "source": [
    "def is_valid_image(file_path : str):\n",
    "    \"\"\"\n",
    "    Check file_path is valid image.\n",
    "    \"\"\"\n",
    "    try:\n",
    "        image_extension = imghdr.what(file_path)\n",
    "        if image_extension in ['jpeg', '.jpg', '.png']:\n",
    "            return True\n",
    "        return False\n",
    "    except Exception as exc:\n",
    "        print(exc)\n",
    "        return False"
   ]
  },
  {
   "cell_type": "code",
   "execution_count": 5,
   "metadata": {},
   "outputs": [],
   "source": [
    "def post_image(url : str, image : bytes):\n",
    "    \"\"\"Post an image to the classifier.\"\"\"\n",
    "    try:\n",
    "        response = requests.post(\n",
    "            url,\n",
    "            files={\"image\": image},\n",
    "            )\n",
    "        return response\n",
    "    except requests.exceptions.ConnectionError:\n",
    "        print(\"ConnectionError: Is %s running?\", CLASSIFIER)\n",
    "        return None"
   ]
  },
  {
   "cell_type": "markdown",
   "metadata": {},
   "source": [
    "Create classes"
   ]
  },
  {
   "cell_type": "code",
   "execution_count": 6,
   "metadata": {},
   "outputs": [],
   "source": [
    "class DeepstackFace():\n",
    "    \"\"\"Work with faces.\"\"\"\n",
    "\n",
    "    def __init__(self, ip_address, port):\n",
    "\n",
    "        self._url_check = \"http://{}:{}/v1/vision/face/recognize\".format(\n",
    "            ip_address, port)\n",
    "        self._faces = None\n",
    "        self._matched = {}\n",
    "\n",
    "    def process_image_bytes(self, image_bytes):\n",
    "        \"\"\"Process an image.\"\"\"\n",
    "        response = post_image(\n",
    "            self._url_check, image_bytes)\n",
    "        if response:\n",
    "            if response.status_code == HTTP_OK:\n",
    "                predictions_json = response.json()[\"predictions\"]\n",
    "                self._faces = len(predictions_json)\n",
    "                self._matched = get_matched_faces(predictions_json)\n",
    "\n",
    "        else:\n",
    "            self._faces = None\n",
    "            self._matched = {}\n",
    "\n",
    "    @property\n",
    "    def attributes(self):\n",
    "        \"\"\"Return the classifier attributes.\"\"\"\n",
    "        return {\n",
    "            'faces': self._faces,\n",
    "            'matched_faces': self._matched,\n",
    "            'total_matched_faces': len(self._matched),\n",
    "        }"
   ]
  },
  {
   "cell_type": "markdown",
   "metadata": {},
   "source": [
    "## Usage"
   ]
  },
  {
   "cell_type": "code",
   "execution_count": 7,
   "metadata": {},
   "outputs": [],
   "source": [
    "dsface = DeepstackFace(IP_ADDRESS, PORT)"
   ]
  },
  {
   "cell_type": "code",
   "execution_count": 8,
   "metadata": {},
   "outputs": [
    {
     "data": {
      "text/plain": [
       "{'faces': None, 'matched_faces': {}, 'total_matched_faces': 0}"
      ]
     },
     "execution_count": 8,
     "metadata": {},
     "output_type": "execute_result"
    }
   ],
   "source": [
    "dsface.attributes"
   ]
  },
  {
   "cell_type": "code",
   "execution_count": 9,
   "metadata": {},
   "outputs": [],
   "source": [
    "image_path = 'test-image2.jpg'\n",
    "\n",
    "with open(image_path, \"rb\") as image_bytes:\n",
    "    dsface.process_image_bytes(image_bytes)"
   ]
  },
  {
   "cell_type": "code",
   "execution_count": 10,
   "metadata": {},
   "outputs": [
    {
     "data": {
      "text/plain": [
       "{'faces': 2, 'matched_faces': {}, 'total_matched_faces': 0}"
      ]
     },
     "execution_count": 10,
     "metadata": {},
     "output_type": "execute_result"
    }
   ],
   "source": [
    "dsface.attributes"
   ]
  },
  {
   "cell_type": "code",
   "execution_count": null,
   "metadata": {},
   "outputs": [],
   "source": []
  }
 ],
 "metadata": {
  "kernelspec": {
   "display_name": "Python 3",
   "language": "python",
   "name": "python3"
  },
  "language_info": {
   "codemirror_mode": {
    "name": "ipython",
    "version": 3
   },
   "file_extension": ".py",
   "mimetype": "text/x-python",
   "name": "python",
   "nbconvert_exporter": "python",
   "pygments_lexer": "ipython3",
   "version": "3.6.5"
  }
 },
 "nbformat": 4,
 "nbformat_minor": 2
}
